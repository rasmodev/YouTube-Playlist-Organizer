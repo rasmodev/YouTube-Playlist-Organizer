{
 "cells": [
  {
   "cell_type": "code",
   "execution_count": 1,
   "id": "6cebba65",
   "metadata": {},
   "outputs": [],
   "source": [
    "Installations\n",
    "%pip install google-api-python-client\n",
    "%pip install pyodbc"
   ]
  },
  {
   "cell_type": "code",
   "execution_count": 2,
   "id": "c6162911",
   "metadata": {},
   "outputs": [],
   "source": [
    "# Importing Libraries\n",
    "from dotenv import dotenv_values\n",
    "from googleapiclient.discovery import build\n",
    "from docx import Document"
   ]
  },
  {
   "cell_type": "code",
   "execution_count": 3,
   "id": "46a5d309",
   "metadata": {
    "scrolled": false
   },
   "outputs": [
    {
     "name": "stdout",
     "output_type": "stream",
     "text": [
      "Enter the playlist URL: https://www.youtube.com/watch?v=rGx1QNdYzvs&list=PLUaB-1hjhk8FE_XZ87vPPSfHqb6OcM0cF\n",
      "Enter repetitive terms (comma-separated): EXCEL, POWER BI, TABLEAU, SQL, PYTHON\n"
     ]
    }
   ],
   "source": [
    "# Installations\n",
    "# %pip install google-api-python-client\n",
    "# %pip install pyodbc\n",
    "# Importing Libraries\n",
    "from dotenv import dotenv_values\n",
    "from googleapiclient.discovery import build\n",
    "from docx import Document\n",
    "\n",
    "# Load environment variables from the .env file into a dictionary\n",
    "environment_vars = dotenv_values('.env')\n",
    "\n",
    "# Get the credential values from the '.env' file \n",
    "my_api_key = environment_vars.get(\"API_KEY\")\n",
    "\n",
    "# Enter your API key here\n",
    "api_key = my_api_key\n",
    "\n",
    "# Create a YouTube API client\n",
    "youtube = build('youtube', 'v3', developerKey=api_key)\n",
    "\n",
    "# Get the playlist URL from the user\n",
    "playlist_url = input(\"Enter the playlist URL: \")\n",
    "\n",
    "# Extract the playlist ID from the URL\n",
    "playlist_id = playlist_url.split(\"list=\")[1]\n",
    "\n",
    "# Get repetitive terms from the user\n",
    "repetitive_terms_input = input(\"Enter repetitive terms (comma-separated): \")\n",
    "repetitive_terms = [term.strip().upper() for term in repetitive_terms_input.split(',')]\n",
    "\n",
    "# Define the headings dictionary\n",
    "headings = {}\n",
    "\n",
    "# Get all the video details from the playlist\n",
    "videos = []\n",
    "next_page_token = None\n",
    "\n",
    "while True:\n",
    "    # Get the playlist items\n",
    "    playlist_items = youtube.playlistItems().list(\n",
    "        part=\"contentDetails\",\n",
    "        playlistId=playlist_id,\n",
    "        maxResults=50,\n",
    "        pageToken=next_page_token\n",
    "    ).execute()\n",
    "\n",
    "    # Get the video IDs\n",
    "    video_ids = [item['contentDetails']['videoId'] for item in playlist_items['items']]\n",
    "\n",
    "    # Get the video details\n",
    "    video_details = youtube.videos().list(\n",
    "        part=\"snippet\",\n",
    "        id=','.join(video_ids)\n",
    "    ).execute()\n",
    "\n",
    "    for item in video_details['items']:\n",
    "        title = item['snippet']['title']\n",
    "        video_id = item['id']\n",
    "        video_url = f\"https://www.youtube.com/watch?v={video_id}\"\n",
    "\n",
    "        # Group videos based on the repetitive terms\n",
    "        found = False\n",
    "        for term in repetitive_terms:\n",
    "            if term in title.upper():\n",
    "                if term not in headings:\n",
    "                    headings[term] = chr(len(headings) + 65)\n",
    "                videos.append({\"title\": title, \"url\": video_url, \"group\": headings[term]})\n",
    "                found = True\n",
    "                break\n",
    "\n",
    "        # Add videos without repetitive terms to Introduction or Conclusion\n",
    "        if not found:\n",
    "            if item == video_details['items'][0]:\n",
    "                videos.append({\"title\": title, \"url\": video_url, \"group\": \"Introduction\"})\n",
    "            elif item == video_details['items'][-1]:\n",
    "                videos.append({\"title\": title, \"url\": video_url, \"group\": \"Conclusion\"})\n",
    "\n",
    "    # Check if there are more pages\n",
    "    next_page_token = playlist_items.get('nextPageToken')\n",
    "\n",
    "    if not next_page_token:\n",
    "        break\n",
    "\n",
    "# Create a Word document\n",
    "doc = Document()\n",
    "\n",
    "# Print the video titles and URLs grouped by the headings\n",
    "for group in sorted(headings.values()):\n",
    "    doc.add_paragraph(f\"\\n{group}. {list(headings.keys())[list(headings.values()).index(group)]}\")\n",
    "    count = 1\n",
    "    for video in videos:\n",
    "        if video['group'] == group:\n",
    "            doc.add_paragraph(f\"{group}.{count} {video['title']} - {video['url']}\")\n",
    "            count += 1\n",
    "\n",
    "# Print videos without repetitive terms under Introduction or Conclusion\n",
    "for group in [\"Introduction\", \"Conclusion\"]:\n",
    "    doc.add_paragraph(f\"\\n{group}\")\n",
    "    count = 1\n",
    "    for video in videos:\n",
    "        if video['group'] == group:\n",
    "            doc.add_paragraph(f\"{group}.{count} {video['title']} - {video['url']}\")\n",
    "            count += 1"
   ]
  },
  {
   "cell_type": "code",
   "execution_count": 4,
   "id": "34fc96c5",
   "metadata": {},
   "outputs": [
    {
     "name": "stdout",
     "output_type": "stream",
     "text": [
      "Output saved in playlist_output.docx\n"
     ]
    }
   ],
   "source": [
    "# Save the Word document\n",
    "doc.save(\"organized_playlist.docx\")\n",
    "print(\"Output saved in organized_playlist.docx\")"
   ]
  }
 ],
 "metadata": {
  "kernelspec": {
   "display_name": "Python 3 (ipykernel)",
   "language": "python",
   "name": "python3"
  },
  "language_info": {
   "codemirror_mode": {
    "name": "ipython",
    "version": 3
   },
   "file_extension": ".py",
   "mimetype": "text/x-python",
   "name": "python",
   "nbconvert_exporter": "python",
   "pygments_lexer": "ipython3",
   "version": "3.9.13"
  }
 },
 "nbformat": 4,
 "nbformat_minor": 5
}
