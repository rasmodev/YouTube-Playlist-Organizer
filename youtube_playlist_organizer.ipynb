{
 "cells": [
  {
   "cell_type": "code",
   "execution_count": 1,
   "id": "6cebba65",
   "metadata": {},
   "outputs": [
    {
     "name": "stdout",
     "output_type": "stream",
     "text": [
      "Requirement already satisfied: google-api-python-client in c:\\users\\user\\anaconda3\\lib\\site-packages (2.86.0)\n",
      "Requirement already satisfied: httplib2<1dev,>=0.15.0 in c:\\users\\user\\anaconda3\\lib\\site-packages (from google-api-python-client) (0.22.0)\n",
      "Requirement already satisfied: google-auth<3.0.0dev,>=1.19.0 in c:\\users\\user\\anaconda3\\lib\\site-packages (from google-api-python-client) (2.18.0)\n",
      "Requirement already satisfied: google-auth-httplib2>=0.1.0 in c:\\users\\user\\anaconda3\\lib\\site-packages (from google-api-python-client) (0.1.0)\n",
      "Requirement already satisfied: google-api-core!=2.0.*,!=2.1.*,!=2.2.*,!=2.3.0,<3.0.0dev,>=1.31.5 in c:\\users\\user\\anaconda3\\lib\\site-packages (from google-api-python-client) (2.11.0)\n",
      "Requirement already satisfied: uritemplate<5,>=3.0.1 in c:\\users\\user\\anaconda3\\lib\\site-packages (from google-api-python-client) (4.1.1)\n",
      "Requirement already satisfied: googleapis-common-protos<2.0dev,>=1.56.2 in c:\\users\\user\\anaconda3\\lib\\site-packages (from google-api-core!=2.0.*,!=2.1.*,!=2.2.*,!=2.3.0,<3.0.0dev,>=1.31.5->google-api-python-client) (1.59.0)\n",
      "Requirement already satisfied: protobuf!=3.20.0,!=3.20.1,!=4.21.0,!=4.21.1,!=4.21.2,!=4.21.3,!=4.21.4,!=4.21.5,<5.0.0dev,>=3.19.5 in c:\\users\\user\\anaconda3\\lib\\site-packages (from google-api-core!=2.0.*,!=2.1.*,!=2.2.*,!=2.3.0,<3.0.0dev,>=1.31.5->google-api-python-client) (4.23.0)\n",
      "Requirement already satisfied: requests<3.0.0dev,>=2.18.0 in c:\\users\\user\\anaconda3\\lib\\site-packages (from google-api-core!=2.0.*,!=2.1.*,!=2.2.*,!=2.3.0,<3.0.0dev,>=1.31.5->google-api-python-client) (2.28.1)\n",
      "Requirement already satisfied: cachetools<6.0,>=2.0.0 in c:\\users\\user\\anaconda3\\lib\\site-packages (from google-auth<3.0.0dev,>=1.19.0->google-api-python-client) (5.3.0)\n",
      "Requirement already satisfied: pyasn1-modules>=0.2.1 in c:\\users\\user\\anaconda3\\lib\\site-packages (from google-auth<3.0.0dev,>=1.19.0->google-api-python-client) (0.2.8)\n",
      "Requirement already satisfied: six>=1.9.0 in c:\\users\\user\\anaconda3\\lib\\site-packages (from google-auth<3.0.0dev,>=1.19.0->google-api-python-client) (1.16.0)\n",
      "Requirement already satisfied: urllib3<2.0 in c:\\users\\user\\anaconda3\\lib\\site-packages (from google-auth<3.0.0dev,>=1.19.0->google-api-python-client) (1.26.11)\n",
      "Requirement already satisfied: rsa<5,>=3.1.4 in c:\\users\\user\\anaconda3\\lib\\site-packages (from google-auth<3.0.0dev,>=1.19.0->google-api-python-client) (4.9)\n",
      "Requirement already satisfied: pyparsing!=3.0.0,!=3.0.1,!=3.0.2,!=3.0.3,<4,>=2.4.2 in c:\\users\\user\\anaconda3\\lib\\site-packages (from httplib2<1dev,>=0.15.0->google-api-python-client) (3.0.9)\n",
      "Requirement already satisfied: pyasn1<0.5.0,>=0.4.6 in c:\\users\\user\\anaconda3\\lib\\site-packages (from pyasn1-modules>=0.2.1->google-auth<3.0.0dev,>=1.19.0->google-api-python-client) (0.4.8)\n",
      "Requirement already satisfied: charset-normalizer<3,>=2 in c:\\users\\user\\anaconda3\\lib\\site-packages (from requests<3.0.0dev,>=2.18.0->google-api-core!=2.0.*,!=2.1.*,!=2.2.*,!=2.3.0,<3.0.0dev,>=1.31.5->google-api-python-client) (2.0.4)\n",
      "Requirement already satisfied: idna<4,>=2.5 in c:\\users\\user\\anaconda3\\lib\\site-packages (from requests<3.0.0dev,>=2.18.0->google-api-core!=2.0.*,!=2.1.*,!=2.2.*,!=2.3.0,<3.0.0dev,>=1.31.5->google-api-python-client) (3.3)\n",
      "Requirement already satisfied: certifi>=2017.4.17 in c:\\users\\user\\anaconda3\\lib\\site-packages (from requests<3.0.0dev,>=2.18.0->google-api-core!=2.0.*,!=2.1.*,!=2.2.*,!=2.3.0,<3.0.0dev,>=1.31.5->google-api-python-client) (2022.9.14)\n",
      "Note: you may need to restart the kernel to use updated packages.\n"
     ]
    },
    {
     "name": "stderr",
     "output_type": "stream",
     "text": [
      "WARNING: Ignoring invalid distribution -andas (c:\\users\\user\\anaconda3\\lib\\site-packages)\n",
      "WARNING: Ignoring invalid distribution -andas (c:\\users\\user\\anaconda3\\lib\\site-packages)\n"
     ]
    },
    {
     "name": "stdout",
     "output_type": "stream",
     "text": [
      "Requirement already satisfied: pyodbc in c:\\users\\user\\anaconda3\\lib\\site-packages (4.0.34)\n",
      "Note: you may need to restart the kernel to use updated packages.\n"
     ]
    },
    {
     "name": "stderr",
     "output_type": "stream",
     "text": [
      "WARNING: Ignoring invalid distribution -andas (c:\\users\\user\\anaconda3\\lib\\site-packages)\n",
      "WARNING: Ignoring invalid distribution -andas (c:\\users\\user\\anaconda3\\lib\\site-packages)\n"
     ]
    }
   ],
   "source": [
    "# Installations\n",
    "%pip install google-api-python-client\n",
    "%pip install pyodbc"
   ]
  },
  {
   "cell_type": "code",
   "execution_count": 2,
   "id": "c6162911",
   "metadata": {},
   "outputs": [],
   "source": [
    "# Importing Libraries\n",
    "from dotenv import dotenv_values\n",
    "from googleapiclient.discovery import build\n",
    "from docx import Document"
   ]
  },
  {
   "cell_type": "code",
   "execution_count": null,
   "id": "46a5d309",
   "metadata": {
    "scrolled": false
   },
   "outputs": [],
   "source": [
    "# Load environment variables from the .env file into a dictionary\n",
    "environment_vars = dotenv_values('.env')\n",
    "\n",
    "# Get the credential values from the '.env' file \n",
    "my_api_key = environment_vars.get(\"API_KEY\")\n",
    "\n",
    "# Enter your API key here\n",
    "api_key = my_api_key\n",
    "\n",
    "# Create a YouTube API client\n",
    "youtube = build('youtube', 'v3', developerKey=api_key)\n",
    "\n",
    "# Get the playlist URL from the user\n",
    "playlist_url = input(\"Enter the playlist URL: \")\n",
    "\n",
    "# Extract the playlist ID from the URL\n",
    "playlist_id = playlist_url.split(\"list=\")[1]\n",
    "\n",
    "# Get repetitive terms from the user\n",
    "repetitive_terms_input = input(\"Enter repetitive terms (comma-separated): \")\n",
    "repetitive_terms = [term.strip().upper() for term in repetitive_terms_input.split(',')]\n",
    "\n",
    "# Define the headings dictionary\n",
    "headings = {}\n",
    "\n",
    "# Get all the video details from the playlist\n",
    "videos = []\n",
    "next_page_token = None\n",
    "\n",
    "while True:\n",
    "    # Get the playlist items\n",
    "    playlist_items = youtube.playlistItems().list(\n",
    "        part=\"contentDetails\",\n",
    "        playlistId=playlist_id,\n",
    "        maxResults=50,\n",
    "        pageToken=next_page_token\n",
    "    ).execute()\n",
    "\n",
    "    # Get the video IDs\n",
    "    video_ids = [item['contentDetails']['videoId'] for item in playlist_items['items']]\n",
    "\n",
    "    # Get the video details\n",
    "    video_details = youtube.videos().list(\n",
    "        part=\"snippet\",\n",
    "        id=','.join(video_ids)\n",
    "    ).execute()\n",
    "\n",
    "    for item in video_details['items']:\n",
    "        title = item['snippet']['title']\n",
    "        video_id = item['id']\n",
    "        video_url = f\"https://www.youtube.com/watch?v={video_id}\"\n",
    "\n",
    "        # Group videos based on the repetitive terms\n",
    "        found = False\n",
    "        for term in repetitive_terms:\n",
    "            if term in title.upper():\n",
    "                if term not in headings:\n",
    "                    headings[term] = chr(len(headings) + 65)\n",
    "                videos.append({\"title\": title, \"url\": video_url, \"group\": headings[term]})\n",
    "                found = True\n",
    "                break\n",
    "\n",
    "        # Add videos without repetitive terms to Introduction or Conclusion\n",
    "        if not found:\n",
    "            if item == video_details['items'][0]:\n",
    "                videos.append({\"title\": title, \"url\": video_url, \"group\": \"Introduction\"})\n",
    "            elif item == video_details['items'][-1]:\n",
    "                videos.append({\"title\": title, \"url\": video_url, \"group\": \"Conclusion\"})\n",
    "\n",
    "    # Check if there are more pages\n",
    "    next_page_token = playlist_items.get('nextPageToken')\n",
    "\n",
    "    if not next_page_token:\n",
    "        break\n",
    "\n",
    "# Create a Word document\n",
    "doc = Document()\n",
    "\n",
    "# Print the video titles and URLs grouped by the headings\n",
    "for group in sorted(headings.values()):\n",
    "    doc.add_paragraph(f\"\\n{group}. {list(headings.keys())[list(headings.values()).index(group)]}\")\n",
    "    count = 1\n",
    "    for video in videos:\n",
    "        if video['group'] == group:\n",
    "            doc.add_paragraph(f\"{group}.{count} {video['title']} - {video['url']}\")\n",
    "            count += 1\n",
    "\n",
    "# Print videos without repetitive terms under Introduction or Conclusion\n",
    "for group in [\"Introduction\", \"Conclusion\"]:\n",
    "    doc.add_paragraph(f\"\\n{group}\")\n",
    "    count = 1\n",
    "    for video in videos:\n",
    "        if video['group'] == group:\n",
    "            doc.add_paragraph(f\"{group}.{count} {video['title']} - {video['url']}\")\n",
    "            count += 1"
   ]
  },
  {
   "cell_type": "code",
   "execution_count": null,
   "id": "34fc96c5",
   "metadata": {},
   "outputs": [],
   "source": [
    "# Save the Word document\n",
    "doc.save(\"organized_playlist.docx\")\n",
    "print(\"Output saved in organized_playlist.docx\")"
   ]
  }
 ],
 "metadata": {
  "kernelspec": {
   "display_name": "Python 3 (ipykernel)",
   "language": "python",
   "name": "python3"
  },
  "language_info": {
   "codemirror_mode": {
    "name": "ipython",
    "version": 3
   },
   "file_extension": ".py",
   "mimetype": "text/x-python",
   "name": "python",
   "nbconvert_exporter": "python",
   "pygments_lexer": "ipython3",
   "version": "3.9.13"
  }
 },
 "nbformat": 4,
 "nbformat_minor": 5
}
